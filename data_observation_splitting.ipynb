{
  "cells": [
    {
      "cell_type": "markdown",
      "id": "37960d2c-6b41-45f5-a84e-5e11cd21fb25",
      "metadata": {
        "id": "37960d2c-6b41-45f5-a84e-5e11cd21fb25"
      },
      "source": [
        "# Data Observation and Data splitting\n",
        "This notebook includes two parts\n",
        "* Data observation\n",
        "* Data splitting"
      ]
    },
    {
      "cell_type": "code",
      "execution_count": 1,
      "id": "6eed1552-7b7e-4f76-b839-4545299e6602",
      "metadata": {
        "id": "6eed1552-7b7e-4f76-b839-4545299e6602"
      },
      "outputs": [],
      "source": [
        "%load_ext autoreload\n",
        "%autoreload 2"
      ]
    },
    {
      "cell_type": "code",
      "execution_count": 2,
      "id": "43f1c3d1-3063-4146-b492-8403812480ed",
      "metadata": {
        "id": "43f1c3d1-3063-4146-b492-8403812480ed"
      },
      "outputs": [],
      "source": [
        "import re\n",
        "import os\n",
        "import copy\n",
        "\n",
        "import pandas as pd\n",
        "import numpy as np\n",
        "import matplotlib.pyplot as plt"
      ]
    },
    {
      "cell_type": "markdown",
      "source": [
        "### Function for summary data"
      ],
      "metadata": {
        "id": "x9mGZvdCwTVI"
      },
      "id": "x9mGZvdCwTVI"
    },
    {
      "cell_type": "code",
      "execution_count": 3,
      "id": "244e545a-b84c-4463-8ba0-2d6691e33407",
      "metadata": {
        "id": "244e545a-b84c-4463-8ba0-2d6691e33407"
      },
      "outputs": [],
      "source": [
        "def summary_dataframe(data):\n",
        "  \n",
        "  # Counting null for each column\n",
        "  null_counts = data.isnull().sum()\n",
        "  summary_df = pd.DataFrame({\"column_name\":null_counts.index, \"null_count\":null_counts.values})\n",
        "\n",
        "  # Calculating null for each column\n",
        "  summary_df[\"null_rate\"] = null_counts.values/len(data)\n",
        "\n",
        "  # Counting unique elemnets for each column\n",
        "  summary_df[\"elements\"] = [len(set(data[column_name].to_list())) for column_name in data.columns]\n",
        "  \n",
        "  return summary_df"
      ]
    },
    {
      "cell_type": "markdown",
      "source": [
        "### Variables setting"
      ],
      "metadata": {
        "id": "O5EQ1rHfwmbJ"
      },
      "id": "O5EQ1rHfwmbJ"
    },
    {
      "cell_type": "code",
      "execution_count": 4,
      "id": "e8feb878-e052-4c3e-b31d-6e0df5fe85c3",
      "metadata": {
        "id": "e8feb878-e052-4c3e-b31d-6e0df5fe85c3"
      },
      "outputs": [],
      "source": [
        "# Default mount path on colab\n",
        "DRIVE_MOUNT_PATH = \"/content/drive\"\n",
        "\n",
        "# Project path on your google drive\n",
        "# You can change this line \n",
        "PROJECT_PATH = \"MyDrive/Fake-JD-Detector\"\n",
        "\n",
        "# Target or label column name\n",
        "TARGET_COLUMN = \"fraudulent\""
      ]
    },
    {
      "cell_type": "markdown",
      "source": [
        "### Execut this cell to mount your google drive"
      ],
      "metadata": {
        "id": "H0B7oIRyvEke"
      },
      "id": "H0B7oIRyvEke"
    },
    {
      "cell_type": "code",
      "source": [
        "from google.colab import drive\n",
        "drive.mount(DRIVE_MOUNT_PATH)"
      ],
      "metadata": {
        "colab": {
          "base_uri": "https://localhost:8080/"
        },
        "id": "OUL-eYBZpKyM",
        "outputId": "599b09b2-0d88-476a-9983-3125a1874649"
      },
      "id": "OUL-eYBZpKyM",
      "execution_count": 5,
      "outputs": [
        {
          "output_type": "stream",
          "name": "stdout",
          "text": [
            "Mounted at /content/drive\n"
          ]
        }
      ]
    },
    {
      "cell_type": "markdown",
      "source": [
        "## Loading data"
      ],
      "metadata": {
        "id": "zmJIzJ8v5OrI"
      },
      "id": "zmJIzJ8v5OrI"
    },
    {
      "cell_type": "code",
      "execution_count": 6,
      "id": "fda09f56-f791-4802-af4b-678f48e1c63b",
      "metadata": {
        "id": "fda09f56-f791-4802-af4b-678f48e1c63b"
      },
      "outputs": [],
      "source": [
        "job_postings_file = \"job_postings_training_set.csv\"\n",
        "job_postings_path = os.path.join(DRIVE_MOUNT_PATH, PROJECT_PATH, job_postings_file)\n",
        "job_postings_df = pd.read_csv(job_postings_path)"
      ]
    },
    {
      "cell_type": "markdown",
      "id": "6edec8fe-1e6e-4d08-be85-7f53641c20b3",
      "metadata": {
        "id": "6edec8fe-1e6e-4d08-be85-7f53641c20b3"
      },
      "source": [
        "### Show data top 5 rows"
      ]
    },
    {
      "cell_type": "code",
      "execution_count": 7,
      "id": "ae65d11d-5666-4e62-a3ae-72dc2e468239",
      "metadata": {
        "colab": {
          "base_uri": "https://localhost:8080/",
          "height": 600
        },
        "id": "ae65d11d-5666-4e62-a3ae-72dc2e468239",
        "outputId": "f6e122e4-fa06-4f0b-9f43-f8844901325c"
      },
      "outputs": [
        {
          "output_type": "execute_result",
          "data": {
            "text/plain": [
              "   job_id                                      title            location  \\\n",
              "0       1                           Marketing Intern    US, NY, New York   \n",
              "1       2  Customer Service - Cloud Video Production      NZ, , Auckland   \n",
              "2       3    Commissioning Machinery Assistant (CMA)       US, IA, Wever   \n",
              "3       4          Account Executive - Washington DC  US, DC, Washington   \n",
              "4       5                        Bill Review Manager  US, FL, Fort Worth   \n",
              "\n",
              "  department salary_range                                    company_profile  \\\n",
              "0  Marketing          NaN  We're Food52, and we've created a groundbreaki...   \n",
              "1    Success          NaN  90 Seconds, the worlds Cloud Video Production ...   \n",
              "2        NaN          NaN  Valor Services provides Workforce Solutions th...   \n",
              "3      Sales          NaN  Our passion for improving quality of life thro...   \n",
              "4        NaN          NaN  SpotSource Solutions LLC is a Global Human Cap...   \n",
              "\n",
              "                                         description  \\\n",
              "0  Food52, a fast-growing, James Beard Award-winn...   \n",
              "1  Organised - Focused - Vibrant - Awesome!Do you...   \n",
              "2  Our client, located in Houston, is actively se...   \n",
              "3  THE COMPANY: ESRI – Environmental Systems Rese...   \n",
              "4  JOB TITLE: Itemization Review ManagerLOCATION:...   \n",
              "\n",
              "                                        requirements  \\\n",
              "0  Experience with content management systems a m...   \n",
              "1  What we expect from you:Your key responsibilit...   \n",
              "2  Implement pre-commissioning and commissioning ...   \n",
              "3  EDUCATION: Bachelor’s or Master’s in GIS, busi...   \n",
              "4  QUALIFICATIONS:RN license in the State of Texa...   \n",
              "\n",
              "                                            benefits  telecommuting  \\\n",
              "0                                                NaN              0   \n",
              "1  What you will get from usThrough being part of...              0   \n",
              "2                                                NaN              0   \n",
              "3  Our culture is anything but corporate—we have ...              0   \n",
              "4                              Full Benefits Offered              0   \n",
              "\n",
              "   has_company_logo  has_questions employment_type required_experience  \\\n",
              "0                 1              0           Other          Internship   \n",
              "1                 1              0       Full-time      Not Applicable   \n",
              "2                 1              0             NaN                 NaN   \n",
              "3                 1              0       Full-time    Mid-Senior level   \n",
              "4                 1              1       Full-time    Mid-Senior level   \n",
              "\n",
              "  required_education                   industry              function  \\\n",
              "0                NaN                        NaN             Marketing   \n",
              "1                NaN  Marketing and Advertising      Customer Service   \n",
              "2                NaN                        NaN                   NaN   \n",
              "3  Bachelor's Degree          Computer Software                 Sales   \n",
              "4  Bachelor's Degree     Hospital & Health Care  Health Care Provider   \n",
              "\n",
              "   fraudulent  \n",
              "0           0  \n",
              "1           0  \n",
              "2           0  \n",
              "3           0  \n",
              "4           0  "
            ],
            "text/html": [
              "\n",
              "  <div id=\"df-de2bf463-3913-42bd-8dff-275525ad44bc\">\n",
              "    <div class=\"colab-df-container\">\n",
              "      <div>\n",
              "<style scoped>\n",
              "    .dataframe tbody tr th:only-of-type {\n",
              "        vertical-align: middle;\n",
              "    }\n",
              "\n",
              "    .dataframe tbody tr th {\n",
              "        vertical-align: top;\n",
              "    }\n",
              "\n",
              "    .dataframe thead th {\n",
              "        text-align: right;\n",
              "    }\n",
              "</style>\n",
              "<table border=\"1\" class=\"dataframe\">\n",
              "  <thead>\n",
              "    <tr style=\"text-align: right;\">\n",
              "      <th></th>\n",
              "      <th>job_id</th>\n",
              "      <th>title</th>\n",
              "      <th>location</th>\n",
              "      <th>department</th>\n",
              "      <th>salary_range</th>\n",
              "      <th>company_profile</th>\n",
              "      <th>description</th>\n",
              "      <th>requirements</th>\n",
              "      <th>benefits</th>\n",
              "      <th>telecommuting</th>\n",
              "      <th>has_company_logo</th>\n",
              "      <th>has_questions</th>\n",
              "      <th>employment_type</th>\n",
              "      <th>required_experience</th>\n",
              "      <th>required_education</th>\n",
              "      <th>industry</th>\n",
              "      <th>function</th>\n",
              "      <th>fraudulent</th>\n",
              "    </tr>\n",
              "  </thead>\n",
              "  <tbody>\n",
              "    <tr>\n",
              "      <th>0</th>\n",
              "      <td>1</td>\n",
              "      <td>Marketing Intern</td>\n",
              "      <td>US, NY, New York</td>\n",
              "      <td>Marketing</td>\n",
              "      <td>NaN</td>\n",
              "      <td>We're Food52, and we've created a groundbreaki...</td>\n",
              "      <td>Food52, a fast-growing, James Beard Award-winn...</td>\n",
              "      <td>Experience with content management systems a m...</td>\n",
              "      <td>NaN</td>\n",
              "      <td>0</td>\n",
              "      <td>1</td>\n",
              "      <td>0</td>\n",
              "      <td>Other</td>\n",
              "      <td>Internship</td>\n",
              "      <td>NaN</td>\n",
              "      <td>NaN</td>\n",
              "      <td>Marketing</td>\n",
              "      <td>0</td>\n",
              "    </tr>\n",
              "    <tr>\n",
              "      <th>1</th>\n",
              "      <td>2</td>\n",
              "      <td>Customer Service - Cloud Video Production</td>\n",
              "      <td>NZ, , Auckland</td>\n",
              "      <td>Success</td>\n",
              "      <td>NaN</td>\n",
              "      <td>90 Seconds, the worlds Cloud Video Production ...</td>\n",
              "      <td>Organised - Focused - Vibrant - Awesome!Do you...</td>\n",
              "      <td>What we expect from you:Your key responsibilit...</td>\n",
              "      <td>What you will get from usThrough being part of...</td>\n",
              "      <td>0</td>\n",
              "      <td>1</td>\n",
              "      <td>0</td>\n",
              "      <td>Full-time</td>\n",
              "      <td>Not Applicable</td>\n",
              "      <td>NaN</td>\n",
              "      <td>Marketing and Advertising</td>\n",
              "      <td>Customer Service</td>\n",
              "      <td>0</td>\n",
              "    </tr>\n",
              "    <tr>\n",
              "      <th>2</th>\n",
              "      <td>3</td>\n",
              "      <td>Commissioning Machinery Assistant (CMA)</td>\n",
              "      <td>US, IA, Wever</td>\n",
              "      <td>NaN</td>\n",
              "      <td>NaN</td>\n",
              "      <td>Valor Services provides Workforce Solutions th...</td>\n",
              "      <td>Our client, located in Houston, is actively se...</td>\n",
              "      <td>Implement pre-commissioning and commissioning ...</td>\n",
              "      <td>NaN</td>\n",
              "      <td>0</td>\n",
              "      <td>1</td>\n",
              "      <td>0</td>\n",
              "      <td>NaN</td>\n",
              "      <td>NaN</td>\n",
              "      <td>NaN</td>\n",
              "      <td>NaN</td>\n",
              "      <td>NaN</td>\n",
              "      <td>0</td>\n",
              "    </tr>\n",
              "    <tr>\n",
              "      <th>3</th>\n",
              "      <td>4</td>\n",
              "      <td>Account Executive - Washington DC</td>\n",
              "      <td>US, DC, Washington</td>\n",
              "      <td>Sales</td>\n",
              "      <td>NaN</td>\n",
              "      <td>Our passion for improving quality of life thro...</td>\n",
              "      <td>THE COMPANY: ESRI – Environmental Systems Rese...</td>\n",
              "      <td>EDUCATION: Bachelor’s or Master’s in GIS, busi...</td>\n",
              "      <td>Our culture is anything but corporate—we have ...</td>\n",
              "      <td>0</td>\n",
              "      <td>1</td>\n",
              "      <td>0</td>\n",
              "      <td>Full-time</td>\n",
              "      <td>Mid-Senior level</td>\n",
              "      <td>Bachelor's Degree</td>\n",
              "      <td>Computer Software</td>\n",
              "      <td>Sales</td>\n",
              "      <td>0</td>\n",
              "    </tr>\n",
              "    <tr>\n",
              "      <th>4</th>\n",
              "      <td>5</td>\n",
              "      <td>Bill Review Manager</td>\n",
              "      <td>US, FL, Fort Worth</td>\n",
              "      <td>NaN</td>\n",
              "      <td>NaN</td>\n",
              "      <td>SpotSource Solutions LLC is a Global Human Cap...</td>\n",
              "      <td>JOB TITLE: Itemization Review ManagerLOCATION:...</td>\n",
              "      <td>QUALIFICATIONS:RN license in the State of Texa...</td>\n",
              "      <td>Full Benefits Offered</td>\n",
              "      <td>0</td>\n",
              "      <td>1</td>\n",
              "      <td>1</td>\n",
              "      <td>Full-time</td>\n",
              "      <td>Mid-Senior level</td>\n",
              "      <td>Bachelor's Degree</td>\n",
              "      <td>Hospital &amp; Health Care</td>\n",
              "      <td>Health Care Provider</td>\n",
              "      <td>0</td>\n",
              "    </tr>\n",
              "  </tbody>\n",
              "</table>\n",
              "</div>\n",
              "      <button class=\"colab-df-convert\" onclick=\"convertToInteractive('df-de2bf463-3913-42bd-8dff-275525ad44bc')\"\n",
              "              title=\"Convert this dataframe to an interactive table.\"\n",
              "              style=\"display:none;\">\n",
              "        \n",
              "  <svg xmlns=\"http://www.w3.org/2000/svg\" height=\"24px\"viewBox=\"0 0 24 24\"\n",
              "       width=\"24px\">\n",
              "    <path d=\"M0 0h24v24H0V0z\" fill=\"none\"/>\n",
              "    <path d=\"M18.56 5.44l.94 2.06.94-2.06 2.06-.94-2.06-.94-.94-2.06-.94 2.06-2.06.94zm-11 1L8.5 8.5l.94-2.06 2.06-.94-2.06-.94L8.5 2.5l-.94 2.06-2.06.94zm10 10l.94 2.06.94-2.06 2.06-.94-2.06-.94-.94-2.06-.94 2.06-2.06.94z\"/><path d=\"M17.41 7.96l-1.37-1.37c-.4-.4-.92-.59-1.43-.59-.52 0-1.04.2-1.43.59L10.3 9.45l-7.72 7.72c-.78.78-.78 2.05 0 2.83L4 21.41c.39.39.9.59 1.41.59.51 0 1.02-.2 1.41-.59l7.78-7.78 2.81-2.81c.8-.78.8-2.07 0-2.86zM5.41 20L4 18.59l7.72-7.72 1.47 1.35L5.41 20z\"/>\n",
              "  </svg>\n",
              "      </button>\n",
              "      \n",
              "  <style>\n",
              "    .colab-df-container {\n",
              "      display:flex;\n",
              "      flex-wrap:wrap;\n",
              "      gap: 12px;\n",
              "    }\n",
              "\n",
              "    .colab-df-convert {\n",
              "      background-color: #E8F0FE;\n",
              "      border: none;\n",
              "      border-radius: 50%;\n",
              "      cursor: pointer;\n",
              "      display: none;\n",
              "      fill: #1967D2;\n",
              "      height: 32px;\n",
              "      padding: 0 0 0 0;\n",
              "      width: 32px;\n",
              "    }\n",
              "\n",
              "    .colab-df-convert:hover {\n",
              "      background-color: #E2EBFA;\n",
              "      box-shadow: 0px 1px 2px rgba(60, 64, 67, 0.3), 0px 1px 3px 1px rgba(60, 64, 67, 0.15);\n",
              "      fill: #174EA6;\n",
              "    }\n",
              "\n",
              "    [theme=dark] .colab-df-convert {\n",
              "      background-color: #3B4455;\n",
              "      fill: #D2E3FC;\n",
              "    }\n",
              "\n",
              "    [theme=dark] .colab-df-convert:hover {\n",
              "      background-color: #434B5C;\n",
              "      box-shadow: 0px 1px 3px 1px rgba(0, 0, 0, 0.15);\n",
              "      filter: drop-shadow(0px 1px 2px rgba(0, 0, 0, 0.3));\n",
              "      fill: #FFFFFF;\n",
              "    }\n",
              "  </style>\n",
              "\n",
              "      <script>\n",
              "        const buttonEl =\n",
              "          document.querySelector('#df-de2bf463-3913-42bd-8dff-275525ad44bc button.colab-df-convert');\n",
              "        buttonEl.style.display =\n",
              "          google.colab.kernel.accessAllowed ? 'block' : 'none';\n",
              "\n",
              "        async function convertToInteractive(key) {\n",
              "          const element = document.querySelector('#df-de2bf463-3913-42bd-8dff-275525ad44bc');\n",
              "          const dataTable =\n",
              "            await google.colab.kernel.invokeFunction('convertToInteractive',\n",
              "                                                     [key], {});\n",
              "          if (!dataTable) return;\n",
              "\n",
              "          const docLinkHtml = 'Like what you see? Visit the ' +\n",
              "            '<a target=\"_blank\" href=https://colab.research.google.com/notebooks/data_table.ipynb>data table notebook</a>'\n",
              "            + ' to learn more about interactive tables.';\n",
              "          element.innerHTML = '';\n",
              "          dataTable['output_type'] = 'display_data';\n",
              "          await google.colab.output.renderOutput(dataTable, element);\n",
              "          const docLink = document.createElement('div');\n",
              "          docLink.innerHTML = docLinkHtml;\n",
              "          element.appendChild(docLink);\n",
              "        }\n",
              "      </script>\n",
              "    </div>\n",
              "  </div>\n",
              "  "
            ]
          },
          "metadata": {},
          "execution_count": 7
        }
      ],
      "source": [
        "job_postings_df.head()"
      ]
    },
    {
      "cell_type": "markdown",
      "source": [
        "### Summary about null value and distinct elements"
      ],
      "metadata": {
        "id": "sg3B2tupyoDw"
      },
      "id": "sg3B2tupyoDw"
    },
    {
      "cell_type": "code",
      "execution_count": 8,
      "id": "18790cb1-2c62-4cd0-8415-ac1bf353d578",
      "metadata": {
        "colab": {
          "base_uri": "https://localhost:8080/",
          "height": 614
        },
        "id": "18790cb1-2c62-4cd0-8415-ac1bf353d578",
        "outputId": "32deaba2-fa18-4c12-f5ae-7672e0f52a85"
      },
      "outputs": [
        {
          "output_type": "execute_result",
          "data": {
            "text/plain": [
              "            column_name  null_count  null_rate  elements\n",
              "0                job_id           0   0.000000     17828\n",
              "1                 title           0   0.000000     11188\n",
              "2              location         345   0.019352      3098\n",
              "3            department       11514   0.645838      1338\n",
              "4          salary_range       14966   0.839466       875\n",
              "5       company_profile        3290   0.184541      1708\n",
              "6           description           1   0.000056     14678\n",
              "7          requirements        2688   0.150774     11882\n",
              "8              benefits        7184   0.402962      6132\n",
              "9         telecommuting           0   0.000000         2\n",
              "10     has_company_logo           0   0.000000         2\n",
              "11        has_questions           0   0.000000         2\n",
              "12      employment_type        3458   0.193965         6\n",
              "13  required_experience        7024   0.393987         8\n",
              "14   required_education        8073   0.452827        14\n",
              "15             industry        4884   0.273951       132\n",
              "16             function        6433   0.360837        38\n",
              "17           fraudulent           0   0.000000         2"
            ],
            "text/html": [
              "\n",
              "  <div id=\"df-2381c9d3-42e5-42b7-97b3-e6f1756d2b85\">\n",
              "    <div class=\"colab-df-container\">\n",
              "      <div>\n",
              "<style scoped>\n",
              "    .dataframe tbody tr th:only-of-type {\n",
              "        vertical-align: middle;\n",
              "    }\n",
              "\n",
              "    .dataframe tbody tr th {\n",
              "        vertical-align: top;\n",
              "    }\n",
              "\n",
              "    .dataframe thead th {\n",
              "        text-align: right;\n",
              "    }\n",
              "</style>\n",
              "<table border=\"1\" class=\"dataframe\">\n",
              "  <thead>\n",
              "    <tr style=\"text-align: right;\">\n",
              "      <th></th>\n",
              "      <th>column_name</th>\n",
              "      <th>null_count</th>\n",
              "      <th>null_rate</th>\n",
              "      <th>elements</th>\n",
              "    </tr>\n",
              "  </thead>\n",
              "  <tbody>\n",
              "    <tr>\n",
              "      <th>0</th>\n",
              "      <td>job_id</td>\n",
              "      <td>0</td>\n",
              "      <td>0.000000</td>\n",
              "      <td>17828</td>\n",
              "    </tr>\n",
              "    <tr>\n",
              "      <th>1</th>\n",
              "      <td>title</td>\n",
              "      <td>0</td>\n",
              "      <td>0.000000</td>\n",
              "      <td>11188</td>\n",
              "    </tr>\n",
              "    <tr>\n",
              "      <th>2</th>\n",
              "      <td>location</td>\n",
              "      <td>345</td>\n",
              "      <td>0.019352</td>\n",
              "      <td>3098</td>\n",
              "    </tr>\n",
              "    <tr>\n",
              "      <th>3</th>\n",
              "      <td>department</td>\n",
              "      <td>11514</td>\n",
              "      <td>0.645838</td>\n",
              "      <td>1338</td>\n",
              "    </tr>\n",
              "    <tr>\n",
              "      <th>4</th>\n",
              "      <td>salary_range</td>\n",
              "      <td>14966</td>\n",
              "      <td>0.839466</td>\n",
              "      <td>875</td>\n",
              "    </tr>\n",
              "    <tr>\n",
              "      <th>5</th>\n",
              "      <td>company_profile</td>\n",
              "      <td>3290</td>\n",
              "      <td>0.184541</td>\n",
              "      <td>1708</td>\n",
              "    </tr>\n",
              "    <tr>\n",
              "      <th>6</th>\n",
              "      <td>description</td>\n",
              "      <td>1</td>\n",
              "      <td>0.000056</td>\n",
              "      <td>14678</td>\n",
              "    </tr>\n",
              "    <tr>\n",
              "      <th>7</th>\n",
              "      <td>requirements</td>\n",
              "      <td>2688</td>\n",
              "      <td>0.150774</td>\n",
              "      <td>11882</td>\n",
              "    </tr>\n",
              "    <tr>\n",
              "      <th>8</th>\n",
              "      <td>benefits</td>\n",
              "      <td>7184</td>\n",
              "      <td>0.402962</td>\n",
              "      <td>6132</td>\n",
              "    </tr>\n",
              "    <tr>\n",
              "      <th>9</th>\n",
              "      <td>telecommuting</td>\n",
              "      <td>0</td>\n",
              "      <td>0.000000</td>\n",
              "      <td>2</td>\n",
              "    </tr>\n",
              "    <tr>\n",
              "      <th>10</th>\n",
              "      <td>has_company_logo</td>\n",
              "      <td>0</td>\n",
              "      <td>0.000000</td>\n",
              "      <td>2</td>\n",
              "    </tr>\n",
              "    <tr>\n",
              "      <th>11</th>\n",
              "      <td>has_questions</td>\n",
              "      <td>0</td>\n",
              "      <td>0.000000</td>\n",
              "      <td>2</td>\n",
              "    </tr>\n",
              "    <tr>\n",
              "      <th>12</th>\n",
              "      <td>employment_type</td>\n",
              "      <td>3458</td>\n",
              "      <td>0.193965</td>\n",
              "      <td>6</td>\n",
              "    </tr>\n",
              "    <tr>\n",
              "      <th>13</th>\n",
              "      <td>required_experience</td>\n",
              "      <td>7024</td>\n",
              "      <td>0.393987</td>\n",
              "      <td>8</td>\n",
              "    </tr>\n",
              "    <tr>\n",
              "      <th>14</th>\n",
              "      <td>required_education</td>\n",
              "      <td>8073</td>\n",
              "      <td>0.452827</td>\n",
              "      <td>14</td>\n",
              "    </tr>\n",
              "    <tr>\n",
              "      <th>15</th>\n",
              "      <td>industry</td>\n",
              "      <td>4884</td>\n",
              "      <td>0.273951</td>\n",
              "      <td>132</td>\n",
              "    </tr>\n",
              "    <tr>\n",
              "      <th>16</th>\n",
              "      <td>function</td>\n",
              "      <td>6433</td>\n",
              "      <td>0.360837</td>\n",
              "      <td>38</td>\n",
              "    </tr>\n",
              "    <tr>\n",
              "      <th>17</th>\n",
              "      <td>fraudulent</td>\n",
              "      <td>0</td>\n",
              "      <td>0.000000</td>\n",
              "      <td>2</td>\n",
              "    </tr>\n",
              "  </tbody>\n",
              "</table>\n",
              "</div>\n",
              "      <button class=\"colab-df-convert\" onclick=\"convertToInteractive('df-2381c9d3-42e5-42b7-97b3-e6f1756d2b85')\"\n",
              "              title=\"Convert this dataframe to an interactive table.\"\n",
              "              style=\"display:none;\">\n",
              "        \n",
              "  <svg xmlns=\"http://www.w3.org/2000/svg\" height=\"24px\"viewBox=\"0 0 24 24\"\n",
              "       width=\"24px\">\n",
              "    <path d=\"M0 0h24v24H0V0z\" fill=\"none\"/>\n",
              "    <path d=\"M18.56 5.44l.94 2.06.94-2.06 2.06-.94-2.06-.94-.94-2.06-.94 2.06-2.06.94zm-11 1L8.5 8.5l.94-2.06 2.06-.94-2.06-.94L8.5 2.5l-.94 2.06-2.06.94zm10 10l.94 2.06.94-2.06 2.06-.94-2.06-.94-.94-2.06-.94 2.06-2.06.94z\"/><path d=\"M17.41 7.96l-1.37-1.37c-.4-.4-.92-.59-1.43-.59-.52 0-1.04.2-1.43.59L10.3 9.45l-7.72 7.72c-.78.78-.78 2.05 0 2.83L4 21.41c.39.39.9.59 1.41.59.51 0 1.02-.2 1.41-.59l7.78-7.78 2.81-2.81c.8-.78.8-2.07 0-2.86zM5.41 20L4 18.59l7.72-7.72 1.47 1.35L5.41 20z\"/>\n",
              "  </svg>\n",
              "      </button>\n",
              "      \n",
              "  <style>\n",
              "    .colab-df-container {\n",
              "      display:flex;\n",
              "      flex-wrap:wrap;\n",
              "      gap: 12px;\n",
              "    }\n",
              "\n",
              "    .colab-df-convert {\n",
              "      background-color: #E8F0FE;\n",
              "      border: none;\n",
              "      border-radius: 50%;\n",
              "      cursor: pointer;\n",
              "      display: none;\n",
              "      fill: #1967D2;\n",
              "      height: 32px;\n",
              "      padding: 0 0 0 0;\n",
              "      width: 32px;\n",
              "    }\n",
              "\n",
              "    .colab-df-convert:hover {\n",
              "      background-color: #E2EBFA;\n",
              "      box-shadow: 0px 1px 2px rgba(60, 64, 67, 0.3), 0px 1px 3px 1px rgba(60, 64, 67, 0.15);\n",
              "      fill: #174EA6;\n",
              "    }\n",
              "\n",
              "    [theme=dark] .colab-df-convert {\n",
              "      background-color: #3B4455;\n",
              "      fill: #D2E3FC;\n",
              "    }\n",
              "\n",
              "    [theme=dark] .colab-df-convert:hover {\n",
              "      background-color: #434B5C;\n",
              "      box-shadow: 0px 1px 3px 1px rgba(0, 0, 0, 0.15);\n",
              "      filter: drop-shadow(0px 1px 2px rgba(0, 0, 0, 0.3));\n",
              "      fill: #FFFFFF;\n",
              "    }\n",
              "  </style>\n",
              "\n",
              "      <script>\n",
              "        const buttonEl =\n",
              "          document.querySelector('#df-2381c9d3-42e5-42b7-97b3-e6f1756d2b85 button.colab-df-convert');\n",
              "        buttonEl.style.display =\n",
              "          google.colab.kernel.accessAllowed ? 'block' : 'none';\n",
              "\n",
              "        async function convertToInteractive(key) {\n",
              "          const element = document.querySelector('#df-2381c9d3-42e5-42b7-97b3-e6f1756d2b85');\n",
              "          const dataTable =\n",
              "            await google.colab.kernel.invokeFunction('convertToInteractive',\n",
              "                                                     [key], {});\n",
              "          if (!dataTable) return;\n",
              "\n",
              "          const docLinkHtml = 'Like what you see? Visit the ' +\n",
              "            '<a target=\"_blank\" href=https://colab.research.google.com/notebooks/data_table.ipynb>data table notebook</a>'\n",
              "            + ' to learn more about interactive tables.';\n",
              "          element.innerHTML = '';\n",
              "          dataTable['output_type'] = 'display_data';\n",
              "          await google.colab.output.renderOutput(dataTable, element);\n",
              "          const docLink = document.createElement('div');\n",
              "          docLink.innerHTML = docLinkHtml;\n",
              "          element.appendChild(docLink);\n",
              "        }\n",
              "      </script>\n",
              "    </div>\n",
              "  </div>\n",
              "  "
            ]
          },
          "metadata": {},
          "execution_count": 8
        }
      ],
      "source": [
        "summary_dataframe(job_postings_df)"
      ]
    },
    {
      "cell_type": "markdown",
      "source": [
        "### Show statistic of numerical data"
      ],
      "metadata": {
        "id": "9Ed7eEyvy7l4"
      },
      "id": "9Ed7eEyvy7l4"
    },
    {
      "cell_type": "code",
      "execution_count": 9,
      "id": "539eef1e-5e51-4cef-9711-0a6e996421f4",
      "metadata": {
        "colab": {
          "base_uri": "https://localhost:8080/",
          "height": 300
        },
        "id": "539eef1e-5e51-4cef-9711-0a6e996421f4",
        "outputId": "d2c25278-9ad7-4dbb-ec72-4d4deac0e1c7"
      },
      "outputs": [
        {
          "output_type": "execute_result",
          "data": {
            "text/plain": [
              "             job_id  telecommuting  has_company_logo  has_questions  \\\n",
              "count  17828.000000   17828.000000      17828.000000   17828.000000   \n",
              "mean    8914.500000       0.042966          0.795434       0.491979   \n",
              "std     5146.644635       0.202786          0.403395       0.499950   \n",
              "min        1.000000       0.000000          0.000000       0.000000   \n",
              "25%     4457.750000       0.000000          1.000000       0.000000   \n",
              "50%     8914.500000       0.000000          1.000000       0.000000   \n",
              "75%    13371.250000       0.000000          1.000000       1.000000   \n",
              "max    17828.000000       1.000000          1.000000       1.000000   \n",
              "\n",
              "         fraudulent  \n",
              "count  17828.000000  \n",
              "mean       0.048351  \n",
              "std        0.214513  \n",
              "min        0.000000  \n",
              "25%        0.000000  \n",
              "50%        0.000000  \n",
              "75%        0.000000  \n",
              "max        1.000000  "
            ],
            "text/html": [
              "\n",
              "  <div id=\"df-565595ad-1bdd-4ace-8c56-2e557fd9e753\">\n",
              "    <div class=\"colab-df-container\">\n",
              "      <div>\n",
              "<style scoped>\n",
              "    .dataframe tbody tr th:only-of-type {\n",
              "        vertical-align: middle;\n",
              "    }\n",
              "\n",
              "    .dataframe tbody tr th {\n",
              "        vertical-align: top;\n",
              "    }\n",
              "\n",
              "    .dataframe thead th {\n",
              "        text-align: right;\n",
              "    }\n",
              "</style>\n",
              "<table border=\"1\" class=\"dataframe\">\n",
              "  <thead>\n",
              "    <tr style=\"text-align: right;\">\n",
              "      <th></th>\n",
              "      <th>job_id</th>\n",
              "      <th>telecommuting</th>\n",
              "      <th>has_company_logo</th>\n",
              "      <th>has_questions</th>\n",
              "      <th>fraudulent</th>\n",
              "    </tr>\n",
              "  </thead>\n",
              "  <tbody>\n",
              "    <tr>\n",
              "      <th>count</th>\n",
              "      <td>17828.000000</td>\n",
              "      <td>17828.000000</td>\n",
              "      <td>17828.000000</td>\n",
              "      <td>17828.000000</td>\n",
              "      <td>17828.000000</td>\n",
              "    </tr>\n",
              "    <tr>\n",
              "      <th>mean</th>\n",
              "      <td>8914.500000</td>\n",
              "      <td>0.042966</td>\n",
              "      <td>0.795434</td>\n",
              "      <td>0.491979</td>\n",
              "      <td>0.048351</td>\n",
              "    </tr>\n",
              "    <tr>\n",
              "      <th>std</th>\n",
              "      <td>5146.644635</td>\n",
              "      <td>0.202786</td>\n",
              "      <td>0.403395</td>\n",
              "      <td>0.499950</td>\n",
              "      <td>0.214513</td>\n",
              "    </tr>\n",
              "    <tr>\n",
              "      <th>min</th>\n",
              "      <td>1.000000</td>\n",
              "      <td>0.000000</td>\n",
              "      <td>0.000000</td>\n",
              "      <td>0.000000</td>\n",
              "      <td>0.000000</td>\n",
              "    </tr>\n",
              "    <tr>\n",
              "      <th>25%</th>\n",
              "      <td>4457.750000</td>\n",
              "      <td>0.000000</td>\n",
              "      <td>1.000000</td>\n",
              "      <td>0.000000</td>\n",
              "      <td>0.000000</td>\n",
              "    </tr>\n",
              "    <tr>\n",
              "      <th>50%</th>\n",
              "      <td>8914.500000</td>\n",
              "      <td>0.000000</td>\n",
              "      <td>1.000000</td>\n",
              "      <td>0.000000</td>\n",
              "      <td>0.000000</td>\n",
              "    </tr>\n",
              "    <tr>\n",
              "      <th>75%</th>\n",
              "      <td>13371.250000</td>\n",
              "      <td>0.000000</td>\n",
              "      <td>1.000000</td>\n",
              "      <td>1.000000</td>\n",
              "      <td>0.000000</td>\n",
              "    </tr>\n",
              "    <tr>\n",
              "      <th>max</th>\n",
              "      <td>17828.000000</td>\n",
              "      <td>1.000000</td>\n",
              "      <td>1.000000</td>\n",
              "      <td>1.000000</td>\n",
              "      <td>1.000000</td>\n",
              "    </tr>\n",
              "  </tbody>\n",
              "</table>\n",
              "</div>\n",
              "      <button class=\"colab-df-convert\" onclick=\"convertToInteractive('df-565595ad-1bdd-4ace-8c56-2e557fd9e753')\"\n",
              "              title=\"Convert this dataframe to an interactive table.\"\n",
              "              style=\"display:none;\">\n",
              "        \n",
              "  <svg xmlns=\"http://www.w3.org/2000/svg\" height=\"24px\"viewBox=\"0 0 24 24\"\n",
              "       width=\"24px\">\n",
              "    <path d=\"M0 0h24v24H0V0z\" fill=\"none\"/>\n",
              "    <path d=\"M18.56 5.44l.94 2.06.94-2.06 2.06-.94-2.06-.94-.94-2.06-.94 2.06-2.06.94zm-11 1L8.5 8.5l.94-2.06 2.06-.94-2.06-.94L8.5 2.5l-.94 2.06-2.06.94zm10 10l.94 2.06.94-2.06 2.06-.94-2.06-.94-.94-2.06-.94 2.06-2.06.94z\"/><path d=\"M17.41 7.96l-1.37-1.37c-.4-.4-.92-.59-1.43-.59-.52 0-1.04.2-1.43.59L10.3 9.45l-7.72 7.72c-.78.78-.78 2.05 0 2.83L4 21.41c.39.39.9.59 1.41.59.51 0 1.02-.2 1.41-.59l7.78-7.78 2.81-2.81c.8-.78.8-2.07 0-2.86zM5.41 20L4 18.59l7.72-7.72 1.47 1.35L5.41 20z\"/>\n",
              "  </svg>\n",
              "      </button>\n",
              "      \n",
              "  <style>\n",
              "    .colab-df-container {\n",
              "      display:flex;\n",
              "      flex-wrap:wrap;\n",
              "      gap: 12px;\n",
              "    }\n",
              "\n",
              "    .colab-df-convert {\n",
              "      background-color: #E8F0FE;\n",
              "      border: none;\n",
              "      border-radius: 50%;\n",
              "      cursor: pointer;\n",
              "      display: none;\n",
              "      fill: #1967D2;\n",
              "      height: 32px;\n",
              "      padding: 0 0 0 0;\n",
              "      width: 32px;\n",
              "    }\n",
              "\n",
              "    .colab-df-convert:hover {\n",
              "      background-color: #E2EBFA;\n",
              "      box-shadow: 0px 1px 2px rgba(60, 64, 67, 0.3), 0px 1px 3px 1px rgba(60, 64, 67, 0.15);\n",
              "      fill: #174EA6;\n",
              "    }\n",
              "\n",
              "    [theme=dark] .colab-df-convert {\n",
              "      background-color: #3B4455;\n",
              "      fill: #D2E3FC;\n",
              "    }\n",
              "\n",
              "    [theme=dark] .colab-df-convert:hover {\n",
              "      background-color: #434B5C;\n",
              "      box-shadow: 0px 1px 3px 1px rgba(0, 0, 0, 0.15);\n",
              "      filter: drop-shadow(0px 1px 2px rgba(0, 0, 0, 0.3));\n",
              "      fill: #FFFFFF;\n",
              "    }\n",
              "  </style>\n",
              "\n",
              "      <script>\n",
              "        const buttonEl =\n",
              "          document.querySelector('#df-565595ad-1bdd-4ace-8c56-2e557fd9e753 button.colab-df-convert');\n",
              "        buttonEl.style.display =\n",
              "          google.colab.kernel.accessAllowed ? 'block' : 'none';\n",
              "\n",
              "        async function convertToInteractive(key) {\n",
              "          const element = document.querySelector('#df-565595ad-1bdd-4ace-8c56-2e557fd9e753');\n",
              "          const dataTable =\n",
              "            await google.colab.kernel.invokeFunction('convertToInteractive',\n",
              "                                                     [key], {});\n",
              "          if (!dataTable) return;\n",
              "\n",
              "          const docLinkHtml = 'Like what you see? Visit the ' +\n",
              "            '<a target=\"_blank\" href=https://colab.research.google.com/notebooks/data_table.ipynb>data table notebook</a>'\n",
              "            + ' to learn more about interactive tables.';\n",
              "          element.innerHTML = '';\n",
              "          dataTable['output_type'] = 'display_data';\n",
              "          await google.colab.output.renderOutput(dataTable, element);\n",
              "          const docLink = document.createElement('div');\n",
              "          docLink.innerHTML = docLinkHtml;\n",
              "          element.appendChild(docLink);\n",
              "        }\n",
              "      </script>\n",
              "    </div>\n",
              "  </div>\n",
              "  "
            ]
          },
          "metadata": {},
          "execution_count": 9
        }
      ],
      "source": [
        "job_postings_df.describe()"
      ]
    },
    {
      "cell_type": "markdown",
      "source": [
        "### Distribution of target column"
      ],
      "metadata": {
        "id": "XPnBWAt5zQTB"
      },
      "id": "XPnBWAt5zQTB"
    },
    {
      "cell_type": "code",
      "execution_count": 10,
      "id": "072359b9-546f-4696-ae70-bdec24219cea",
      "metadata": {
        "colab": {
          "base_uri": "https://localhost:8080/",
          "height": 112
        },
        "id": "072359b9-546f-4696-ae70-bdec24219cea",
        "outputId": "4904ac2d-9883-468c-fe81-d8e7b2e5a41a"
      },
      "outputs": [
        {
          "output_type": "execute_result",
          "data": {
            "text/plain": [
              "   fraudulent\n",
              "0       16966\n",
              "1         862"
            ],
            "text/html": [
              "\n",
              "  <div id=\"df-ce0d281a-7509-4be6-8038-f06ac2e35ac4\">\n",
              "    <div class=\"colab-df-container\">\n",
              "      <div>\n",
              "<style scoped>\n",
              "    .dataframe tbody tr th:only-of-type {\n",
              "        vertical-align: middle;\n",
              "    }\n",
              "\n",
              "    .dataframe tbody tr th {\n",
              "        vertical-align: top;\n",
              "    }\n",
              "\n",
              "    .dataframe thead th {\n",
              "        text-align: right;\n",
              "    }\n",
              "</style>\n",
              "<table border=\"1\" class=\"dataframe\">\n",
              "  <thead>\n",
              "    <tr style=\"text-align: right;\">\n",
              "      <th></th>\n",
              "      <th>fraudulent</th>\n",
              "    </tr>\n",
              "  </thead>\n",
              "  <tbody>\n",
              "    <tr>\n",
              "      <th>0</th>\n",
              "      <td>16966</td>\n",
              "    </tr>\n",
              "    <tr>\n",
              "      <th>1</th>\n",
              "      <td>862</td>\n",
              "    </tr>\n",
              "  </tbody>\n",
              "</table>\n",
              "</div>\n",
              "      <button class=\"colab-df-convert\" onclick=\"convertToInteractive('df-ce0d281a-7509-4be6-8038-f06ac2e35ac4')\"\n",
              "              title=\"Convert this dataframe to an interactive table.\"\n",
              "              style=\"display:none;\">\n",
              "        \n",
              "  <svg xmlns=\"http://www.w3.org/2000/svg\" height=\"24px\"viewBox=\"0 0 24 24\"\n",
              "       width=\"24px\">\n",
              "    <path d=\"M0 0h24v24H0V0z\" fill=\"none\"/>\n",
              "    <path d=\"M18.56 5.44l.94 2.06.94-2.06 2.06-.94-2.06-.94-.94-2.06-.94 2.06-2.06.94zm-11 1L8.5 8.5l.94-2.06 2.06-.94-2.06-.94L8.5 2.5l-.94 2.06-2.06.94zm10 10l.94 2.06.94-2.06 2.06-.94-2.06-.94-.94-2.06-.94 2.06-2.06.94z\"/><path d=\"M17.41 7.96l-1.37-1.37c-.4-.4-.92-.59-1.43-.59-.52 0-1.04.2-1.43.59L10.3 9.45l-7.72 7.72c-.78.78-.78 2.05 0 2.83L4 21.41c.39.39.9.59 1.41.59.51 0 1.02-.2 1.41-.59l7.78-7.78 2.81-2.81c.8-.78.8-2.07 0-2.86zM5.41 20L4 18.59l7.72-7.72 1.47 1.35L5.41 20z\"/>\n",
              "  </svg>\n",
              "      </button>\n",
              "      \n",
              "  <style>\n",
              "    .colab-df-container {\n",
              "      display:flex;\n",
              "      flex-wrap:wrap;\n",
              "      gap: 12px;\n",
              "    }\n",
              "\n",
              "    .colab-df-convert {\n",
              "      background-color: #E8F0FE;\n",
              "      border: none;\n",
              "      border-radius: 50%;\n",
              "      cursor: pointer;\n",
              "      display: none;\n",
              "      fill: #1967D2;\n",
              "      height: 32px;\n",
              "      padding: 0 0 0 0;\n",
              "      width: 32px;\n",
              "    }\n",
              "\n",
              "    .colab-df-convert:hover {\n",
              "      background-color: #E2EBFA;\n",
              "      box-shadow: 0px 1px 2px rgba(60, 64, 67, 0.3), 0px 1px 3px 1px rgba(60, 64, 67, 0.15);\n",
              "      fill: #174EA6;\n",
              "    }\n",
              "\n",
              "    [theme=dark] .colab-df-convert {\n",
              "      background-color: #3B4455;\n",
              "      fill: #D2E3FC;\n",
              "    }\n",
              "\n",
              "    [theme=dark] .colab-df-convert:hover {\n",
              "      background-color: #434B5C;\n",
              "      box-shadow: 0px 1px 3px 1px rgba(0, 0, 0, 0.15);\n",
              "      filter: drop-shadow(0px 1px 2px rgba(0, 0, 0, 0.3));\n",
              "      fill: #FFFFFF;\n",
              "    }\n",
              "  </style>\n",
              "\n",
              "      <script>\n",
              "        const buttonEl =\n",
              "          document.querySelector('#df-ce0d281a-7509-4be6-8038-f06ac2e35ac4 button.colab-df-convert');\n",
              "        buttonEl.style.display =\n",
              "          google.colab.kernel.accessAllowed ? 'block' : 'none';\n",
              "\n",
              "        async function convertToInteractive(key) {\n",
              "          const element = document.querySelector('#df-ce0d281a-7509-4be6-8038-f06ac2e35ac4');\n",
              "          const dataTable =\n",
              "            await google.colab.kernel.invokeFunction('convertToInteractive',\n",
              "                                                     [key], {});\n",
              "          if (!dataTable) return;\n",
              "\n",
              "          const docLinkHtml = 'Like what you see? Visit the ' +\n",
              "            '<a target=\"_blank\" href=https://colab.research.google.com/notebooks/data_table.ipynb>data table notebook</a>'\n",
              "            + ' to learn more about interactive tables.';\n",
              "          element.innerHTML = '';\n",
              "          dataTable['output_type'] = 'display_data';\n",
              "          await google.colab.output.renderOutput(dataTable, element);\n",
              "          const docLink = document.createElement('div');\n",
              "          docLink.innerHTML = docLinkHtml;\n",
              "          element.appendChild(docLink);\n",
              "        }\n",
              "      </script>\n",
              "    </div>\n",
              "  </div>\n",
              "  "
            ]
          },
          "metadata": {},
          "execution_count": 10
        }
      ],
      "source": [
        "job_postings_df[TARGET_COLUMN].value_counts().to_frame()"
      ]
    },
    {
      "cell_type": "markdown",
      "source": [
        "## Feature engineering"
      ],
      "metadata": {
        "id": "DuOyKXiP5DRZ"
      },
      "id": "DuOyKXiP5DRZ"
    },
    {
      "cell_type": "code",
      "execution_count": 11,
      "id": "6a491336-0dbd-4311-b90b-a0f20590bda1",
      "metadata": {
        "id": "6a491336-0dbd-4311-b90b-a0f20590bda1"
      },
      "outputs": [],
      "source": [
        "# Because of following steps will extend some columns, \n",
        "# so lat's copy a new dataframe\n",
        "job_postings_extend_df = copy.deepcopy(job_postings_df)"
      ]
    },
    {
      "cell_type": "code",
      "source": [
        "# Using 0 length string (\"\") replace nan for more easy to detect\n",
        "# In nefault, pandas use nan to represent missing values\n",
        "# But nan is a float type value, it causes type inconsistency\n",
        "job_postings_extend_df.fillna(\"\", inplace=True)"
      ],
      "metadata": {
        "id": "V3QKWRmCpnls"
      },
      "id": "V3QKWRmCpnls",
      "execution_count": 12,
      "outputs": []
    },
    {
      "cell_type": "markdown",
      "source": [
        "### Is_null flag columns\n",
        "Fake job postings may has missing values on some columns"
      ],
      "metadata": {
        "id": "Vm1x3jsprKsu"
      },
      "id": "Vm1x3jsprKsu"
    },
    {
      "cell_type": "code",
      "source": [
        "# Add is_null column for all value-loss columns\n",
        "# If value is \"\", means loss, set value 1 otherwise 0\n",
        "null_counts = job_postings_df.isnull().sum()\n",
        "for column, null_count in null_counts.items():\n",
        "  if null_count == 0:\n",
        "    continue\n",
        "  job_postings_extend_df[column+\"_is_null\"] = (\n",
        "      job_postings_extend_df[column].apply(lambda x: 0 if len(x) > 0 else 1)\n",
        "  )"
      ],
      "metadata": {
        "id": "5xCyFP79rJR4"
      },
      "id": "5xCyFP79rJR4",
      "execution_count": 13,
      "outputs": []
    },
    {
      "cell_type": "code",
      "source": [
        "# Let me see some distribution\n",
        "job_postings_extend_df.groupby([\"company_profile_is_null\", TARGET_COLUMN])[\"job_id\"].count().reset_index()"
      ],
      "metadata": {
        "colab": {
          "base_uri": "https://localhost:8080/",
          "height": 175
        },
        "id": "WCvmIak1sN5s",
        "outputId": "32547500-0310-48bf-d0ba-e7b26f9277c2"
      },
      "id": "WCvmIak1sN5s",
      "execution_count": 14,
      "outputs": [
        {
          "output_type": "execute_result",
          "data": {
            "text/plain": [
              "   company_profile_is_null  fraudulent  job_id\n",
              "0                        0           0   14260\n",
              "1                        0           1     278\n",
              "2                        1           0    2706\n",
              "3                        1           1     584"
            ],
            "text/html": [
              "\n",
              "  <div id=\"df-cf7d1585-fe32-4d64-ab08-23a73ca82a8b\">\n",
              "    <div class=\"colab-df-container\">\n",
              "      <div>\n",
              "<style scoped>\n",
              "    .dataframe tbody tr th:only-of-type {\n",
              "        vertical-align: middle;\n",
              "    }\n",
              "\n",
              "    .dataframe tbody tr th {\n",
              "        vertical-align: top;\n",
              "    }\n",
              "\n",
              "    .dataframe thead th {\n",
              "        text-align: right;\n",
              "    }\n",
              "</style>\n",
              "<table border=\"1\" class=\"dataframe\">\n",
              "  <thead>\n",
              "    <tr style=\"text-align: right;\">\n",
              "      <th></th>\n",
              "      <th>company_profile_is_null</th>\n",
              "      <th>fraudulent</th>\n",
              "      <th>job_id</th>\n",
              "    </tr>\n",
              "  </thead>\n",
              "  <tbody>\n",
              "    <tr>\n",
              "      <th>0</th>\n",
              "      <td>0</td>\n",
              "      <td>0</td>\n",
              "      <td>14260</td>\n",
              "    </tr>\n",
              "    <tr>\n",
              "      <th>1</th>\n",
              "      <td>0</td>\n",
              "      <td>1</td>\n",
              "      <td>278</td>\n",
              "    </tr>\n",
              "    <tr>\n",
              "      <th>2</th>\n",
              "      <td>1</td>\n",
              "      <td>0</td>\n",
              "      <td>2706</td>\n",
              "    </tr>\n",
              "    <tr>\n",
              "      <th>3</th>\n",
              "      <td>1</td>\n",
              "      <td>1</td>\n",
              "      <td>584</td>\n",
              "    </tr>\n",
              "  </tbody>\n",
              "</table>\n",
              "</div>\n",
              "      <button class=\"colab-df-convert\" onclick=\"convertToInteractive('df-cf7d1585-fe32-4d64-ab08-23a73ca82a8b')\"\n",
              "              title=\"Convert this dataframe to an interactive table.\"\n",
              "              style=\"display:none;\">\n",
              "        \n",
              "  <svg xmlns=\"http://www.w3.org/2000/svg\" height=\"24px\"viewBox=\"0 0 24 24\"\n",
              "       width=\"24px\">\n",
              "    <path d=\"M0 0h24v24H0V0z\" fill=\"none\"/>\n",
              "    <path d=\"M18.56 5.44l.94 2.06.94-2.06 2.06-.94-2.06-.94-.94-2.06-.94 2.06-2.06.94zm-11 1L8.5 8.5l.94-2.06 2.06-.94-2.06-.94L8.5 2.5l-.94 2.06-2.06.94zm10 10l.94 2.06.94-2.06 2.06-.94-2.06-.94-.94-2.06-.94 2.06-2.06.94z\"/><path d=\"M17.41 7.96l-1.37-1.37c-.4-.4-.92-.59-1.43-.59-.52 0-1.04.2-1.43.59L10.3 9.45l-7.72 7.72c-.78.78-.78 2.05 0 2.83L4 21.41c.39.39.9.59 1.41.59.51 0 1.02-.2 1.41-.59l7.78-7.78 2.81-2.81c.8-.78.8-2.07 0-2.86zM5.41 20L4 18.59l7.72-7.72 1.47 1.35L5.41 20z\"/>\n",
              "  </svg>\n",
              "      </button>\n",
              "      \n",
              "  <style>\n",
              "    .colab-df-container {\n",
              "      display:flex;\n",
              "      flex-wrap:wrap;\n",
              "      gap: 12px;\n",
              "    }\n",
              "\n",
              "    .colab-df-convert {\n",
              "      background-color: #E8F0FE;\n",
              "      border: none;\n",
              "      border-radius: 50%;\n",
              "      cursor: pointer;\n",
              "      display: none;\n",
              "      fill: #1967D2;\n",
              "      height: 32px;\n",
              "      padding: 0 0 0 0;\n",
              "      width: 32px;\n",
              "    }\n",
              "\n",
              "    .colab-df-convert:hover {\n",
              "      background-color: #E2EBFA;\n",
              "      box-shadow: 0px 1px 2px rgba(60, 64, 67, 0.3), 0px 1px 3px 1px rgba(60, 64, 67, 0.15);\n",
              "      fill: #174EA6;\n",
              "    }\n",
              "\n",
              "    [theme=dark] .colab-df-convert {\n",
              "      background-color: #3B4455;\n",
              "      fill: #D2E3FC;\n",
              "    }\n",
              "\n",
              "    [theme=dark] .colab-df-convert:hover {\n",
              "      background-color: #434B5C;\n",
              "      box-shadow: 0px 1px 3px 1px rgba(0, 0, 0, 0.15);\n",
              "      filter: drop-shadow(0px 1px 2px rgba(0, 0, 0, 0.3));\n",
              "      fill: #FFFFFF;\n",
              "    }\n",
              "  </style>\n",
              "\n",
              "      <script>\n",
              "        const buttonEl =\n",
              "          document.querySelector('#df-cf7d1585-fe32-4d64-ab08-23a73ca82a8b button.colab-df-convert');\n",
              "        buttonEl.style.display =\n",
              "          google.colab.kernel.accessAllowed ? 'block' : 'none';\n",
              "\n",
              "        async function convertToInteractive(key) {\n",
              "          const element = document.querySelector('#df-cf7d1585-fe32-4d64-ab08-23a73ca82a8b');\n",
              "          const dataTable =\n",
              "            await google.colab.kernel.invokeFunction('convertToInteractive',\n",
              "                                                     [key], {});\n",
              "          if (!dataTable) return;\n",
              "\n",
              "          const docLinkHtml = 'Like what you see? Visit the ' +\n",
              "            '<a target=\"_blank\" href=https://colab.research.google.com/notebooks/data_table.ipynb>data table notebook</a>'\n",
              "            + ' to learn more about interactive tables.';\n",
              "          element.innerHTML = '';\n",
              "          dataTable['output_type'] = 'display_data';\n",
              "          await google.colab.output.renderOutput(dataTable, element);\n",
              "          const docLink = document.createElement('div');\n",
              "          docLink.innerHTML = docLinkHtml;\n",
              "          element.appendChild(docLink);\n",
              "        }\n",
              "      </script>\n",
              "    </div>\n",
              "  </div>\n",
              "  "
            ]
          },
          "metadata": {},
          "execution_count": 14
        }
      ]
    },
    {
      "cell_type": "markdown",
      "source": [
        "### Spilt location to country, state, city"
      ],
      "metadata": {
        "id": "Yhieed_S4Dlc"
      },
      "id": "Yhieed_S4Dlc"
    },
    {
      "cell_type": "code",
      "source": [
        "# Spilt location to country, state, city\n",
        "split_column_names = [\"location_country\", \"location_state\", \"location_city\"]\n",
        "job_postings_extend_df[split_column_names] = (\n",
        "    job_postings_extend_df[\"location\"]\n",
        "    .str\n",
        "    .split(pat=\", \", n=2, expand=True)\n",
        ")"
      ],
      "metadata": {
        "id": "IF_r1qIvztYl"
      },
      "id": "IF_r1qIvztYl",
      "execution_count": 15,
      "outputs": []
    },
    {
      "cell_type": "code",
      "source": [
        "# Let me see top 10 job located countries\n",
        "(\n",
        " job_postings_extend_df\n",
        " .loc[job_postings_extend_df[\"location_country\"].str.len()>0, \"location_country\"]\n",
        " .value_counts()\n",
        " .iloc[:10]\n",
        " .plot(kind=\"bar\", title=\"Top 10 Job Located Countries\")\n",
        ")"
      ],
      "metadata": {
        "colab": {
          "base_uri": "https://localhost:8080/",
          "height": 476
        },
        "id": "lw8xKt-d0dgW",
        "outputId": "e7863f3a-7bc2-43db-95eb-0074c6a3dfe2"
      },
      "id": "lw8xKt-d0dgW",
      "execution_count": 16,
      "outputs": [
        {
          "output_type": "execute_result",
          "data": {
            "text/plain": [
              "<Axes: title={'center': 'Top 10 Job Located Countries'}>"
            ]
          },
          "metadata": {},
          "execution_count": 16
        },
        {
          "output_type": "display_data",
          "data": {
            "text/plain": [
              "<Figure size 640x480 with 1 Axes>"
            ],
            "image/png": "[encoded data removed]"
          },
          "metadata": {}
        }
      ]
    },
    {
      "cell_type": "markdown",
      "source": [
        "### Processing salary range to numerical data type"
      ],
      "metadata": {
        "id": "QPGaE7o74N7G"
      },
      "id": "QPGaE7o74N7G"
    },
    {
      "cell_type": "code",
      "execution_count": 17,
      "id": "569441c0-d323-44ed-8272-43c151c933d5",
      "metadata": {
        "id": "569441c0-d323-44ed-8272-43c151c933d5"
      },
      "outputs": [],
      "source": [
        "# Processing salary range to numerical\n",
        "salary_range_lows, salary_range_ups, salary_range_diff = [], [], []\n",
        "for salary_range in job_postings_extend_df[\"salary_range\"].tolist():\n",
        "    \n",
        "    range_split, range_low, range_up =[], -1, -1\n",
        "    \n",
        "    if len(salary_range) > 0:\n",
        "        range_split = re.sub(r\"[^0-9\\-]+\", \"\", salary_range).split(\"-\")\n",
        "    \n",
        "    if len(range_split) == 2 and len(range_split[0]) > 0 and len(range_split[1]) > 0:\n",
        "        range_low, range_up = range_split\n",
        "        \n",
        "    salary_range_lows.append(int(range_low))\n",
        "    salary_range_ups.append(int(range_up))\n",
        "    salary_range_diff.append(int(range_up)-int(range_low))\n",
        "    \n",
        "job_postings_extend_df[\"salary_range_low\"] = salary_range_lows\n",
        "job_postings_extend_df[\"salary_range_up\"] = salary_range_ups\n",
        "job_postings_extend_df[\"salary_range_diff\"] = salary_range_diff"
      ]
    },
    {
      "cell_type": "code",
      "source": [
        "# Let me see top 10 salary range differences\n",
        "(\n",
        " job_postings_extend_df\n",
        " .loc[job_postings_extend_df[\"salary_range_diff\"]>0, \"salary_range_diff\"]\n",
        " .value_counts()\n",
        " .iloc[:10]\n",
        " .plot(kind=\"bar\", title=\"Top 10 Salary Range Differences\")\n",
        ")"
      ],
      "metadata": {
        "colab": {
          "base_uri": "https://localhost:8080/",
          "height": 499
        },
        "id": "8g6abQ4e4BaK",
        "outputId": "55d50f76-6ea7-46b1-d52f-4897dab797f2"
      },
      "id": "8g6abQ4e4BaK",
      "execution_count": 18,
      "outputs": [
        {
          "output_type": "execute_result",
          "data": {
            "text/plain": [
              "<Axes: title={'center': 'Top 10 Salary Range Differences'}>"
            ]
          },
          "metadata": {},
          "execution_count": 18
        },
        {
          "output_type": "display_data",
          "data": {
            "text/plain": [
              "<Figure size 640x480 with 1 Axes>"
            ],
            "image/png": "[encoded data removed]"
          },
          "metadata": {}
        }
      ]
    },
    {
      "cell_type": "markdown",
      "id": "553e7564-7795-4d0a-a874-e343943bff40",
      "metadata": {
        "id": "553e7564-7795-4d0a-a874-e343943bff40"
      },
      "source": [
        "### Some References Inspire Me\n",
        "\n",
        "* [Kaggle: Real/Fake Job Posting Prediction](https://www.kaggle.com/datasets/shivamb/real-or-fake-fake-jobposting-prediction)"
      ]
    },
    {
      "cell_type": "code",
      "source": [
        "# Combine string type data to text\n",
        "job_postings_extend_df[\"posting_text\"] = (\n",
        "    job_postings_extend_df[\"title\"]+\" \"+\n",
        "    job_postings_extend_df[\"location\"]+\" \"+\n",
        "    job_postings_extend_df[\"company_profile\"]+\" \"+\n",
        "    job_postings_extend_df[\"description\"]+\" \"+\n",
        "    job_postings_extend_df[\"requirements\"]+\" \"+\n",
        "    job_postings_extend_df[\"benefits\"]\n",
        ")\n",
        "\n",
        "# Clean text, only keep a-z, A-Z, 0-9 characters\n",
        "# In formal texts, special symbols usually can be mean as space\n",
        "job_postings_extend_df[\"posting_text_cleaned\"] = (\n",
        "    job_postings_extend_df[\"posting_text\"]\n",
        "    .apply(lambda x: re.sub(r\"[\\s]+\", \" \", re.sub(r\"[^a-zA-Z0-9]+\",\" \", x)).strip())\n",
        ")"
      ],
      "metadata": {
        "id": "JBcK9Gpe5bxB"
      },
      "id": "JBcK9Gpe5bxB",
      "execution_count": 19,
      "outputs": []
    },
    {
      "cell_type": "code",
      "source": [
        "# Calculating length of text type columns\n",
        "text_columns = [\n",
        "    \"company_profile\", \"description\", \"requirements\", \n",
        "    \"benefits\", \"posting_text\", \"posting_text_cleaned\"\n",
        "]\n",
        "for text_column in text_columns:\n",
        "    job_postings_extend_df[text_column+\"_len\"] = (\n",
        "        job_postings_extend_df[text_column].apply(lambda x: len(x))\n",
        "    )"
      ],
      "metadata": {
        "id": "Nbn5GTGi5-As"
      },
      "id": "Nbn5GTGi5-As",
      "execution_count": 20,
      "outputs": []
    },
    {
      "cell_type": "code",
      "execution_count": 21,
      "id": "437114e9-b456-4f94-bc3a-3330c91a2308",
      "metadata": {
        "colab": {
          "base_uri": "https://localhost:8080/",
          "height": 430
        },
        "id": "437114e9-b456-4f94-bc3a-3330c91a2308",
        "outputId": "f72f2537-8e04-4fa7-97f6-28ebebf1ce30"
      },
      "outputs": [
        {
          "output_type": "display_data",
          "data": {
            "text/plain": [
              "<Figure size 640x480 with 1 Axes>"
            ],
            "image/png": "[encoded data removed]"
          },
          "metadata": {}
        }
      ],
      "source": [
        "# Let me see real/fake job postings text length distribution\n",
        "posting_text_cleaned_len_real = (\n",
        "    job_postings_extend_df.loc[\n",
        "        job_postings_extend_df[TARGET_COLUMN]==0,\n",
        "        \"posting_text_cleaned_len\"\n",
        "    ]\n",
        "    .to_list()\n",
        ")\n",
        "\n",
        "posting_text_cleaned_len_fake = (\n",
        "    job_postings_extend_df.loc[\n",
        "        job_postings_extend_df[TARGET_COLUMN]==1,\n",
        "        \"posting_text_cleaned_len\"\n",
        "    ]\n",
        "    .to_list()\n",
        ")\n",
        "\n",
        "plt.hist(posting_text_cleaned_len_real, label=\"Real\")\n",
        "plt.hist(posting_text_cleaned_len_fake, label=\"Fake\")\n",
        "plt.legend(loc=\"upper right\")\n",
        "plt.show()"
      ]
    },
    {
      "cell_type": "markdown",
      "id": "81e3b6bb-441e-452b-8f43-d962783fffbb",
      "metadata": {
        "id": "81e3b6bb-441e-452b-8f43-d962783fffbb"
      },
      "source": [
        "## Split Data to Train and Validation\n",
        "Split 80% to training and 20% to validation"
      ]
    },
    {
      "cell_type": "code",
      "execution_count": 24,
      "id": "c024a833-3f65-4556-9878-db40106cbc81",
      "metadata": {
        "id": "c024a833-3f65-4556-9878-db40106cbc81"
      },
      "outputs": [],
      "source": [
        "from sklearn.model_selection import train_test_split\n",
        "\n",
        "X_train, X_test, y_train, y_test = train_test_split(\n",
        "    job_postings_extend_df[\"posting_text_cleaned\"], \n",
        "    job_postings_extend_df[TARGET_COLUMN], \n",
        "    test_size = 0.20, \n",
        "    stratify=job_postings_extend_df[TARGET_COLUMN], \n",
        "    random_state = 777\n",
        ")\n",
        "\n",
        "train_df = pd.DataFrame({\"text\": X_train, \"fraudulent\": y_train})\n",
        "test_df = pd.DataFrame({\"text\": X_test, \"fraudulent\": y_test})\n",
        "\n",
        "output_destination = os.path.join(DRIVE_MOUNT_PATH, PROJECT_PATH, \"splitted_text_data\")\n",
        "\n",
        "train_df.to_csv(output_destination+\"/train.csv\", index=False)\n",
        "test_df.to_csv(output_destination+\"/validation.csv\", index=False)"
      ]
    }
  ],
  "metadata": {
    "environment": {
      "kernel": "python3",
      "name": "pytorch-gpu.1-12.m100",
      "type": "gcloud",
      "uri": "gcr.io/deeplearning-platform-release/pytorch-gpu.1-12:m100"
    },
    "kernelspec": {
      "display_name": "Python 3",
      "language": "python",
      "name": "python3"
    },
    "language_info": {
      "codemirror_mode": {
        "name": "ipython",
        "version": 3
      },
      "file_extension": ".py",
      "mimetype": "text/x-python",
      "name": "python",
      "nbconvert_exporter": "python",
      "pygments_lexer": "ipython3",
      "version": "3.7.12"
    },
    "colab": {
      "provenance": []
    }
  },
  "nbformat": 4,
  "nbformat_minor": 5
}